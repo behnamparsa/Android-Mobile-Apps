{
 "cells": [
  {
   "cell_type": "code",
   "execution_count": null,
   "id": "7842fca4",
   "metadata": {},
   "outputs": [
    {
     "name": "stdout",
     "output_type": "stream",
     "text": [
      "Correct: you needed {i+1} tries!\n"
     ]
    }
   ],
   "source": [
    "import random\n",
    "import yaml\n",
    "import getpass\n",
    "\n",
    "with open(\"game_config.yaml\",\"r\") as f:\n",
    "    config = yaml.safe_load(f)\n",
    "\n",
    "range_min = config['range']['min']\n",
    "range_max = config['range']['max']\n",
    "guesses_allowed = config['guesses']\n",
    "\n",
    "mode = config['mode']\n",
    "\n",
    "\n",
    "solved = False\n",
    "\n",
    "\n",
    "if mode == \"single\":\n",
    "    correct_number = random.randint(range_min, range_max)\n",
    "\n",
    "elif mode == \"multi\":\n",
    "    correct_number= int(getpass.getpass(\"Player 2, please enter the number to guess: \"))\n",
    "\n",
    "\n",
    "else: \n",
    "    print(\"Invalid config\")\n",
    "    exit()\n",
    "\n",
    "for i in range(guesses_allowed):\n",
    "\n",
    "    guess = int(input(\"Enter your guess: \"))\n",
    "\n",
    "    if guess == correct_number:\n",
    "        print(\"Correct: you needed {i+1} tries!\")\n",
    "        solved = True\n",
    "        break\n",
    "    elif guess < correct_number:\n",
    "        print(\"Too low\")\n",
    "\n",
    "    else:\n",
    "        print(\"Too high\")\n",
    "\n",
    "\n",
    "if not solved:\n",
    "    print(\"You lost. the number was: \", correct_number)"
   ]
  }
 ],
 "metadata": {
  "kernelspec": {
   "display_name": ".venv",
   "language": "python",
   "name": "python3"
  },
  "language_info": {
   "codemirror_mode": {
    "name": "ipython",
    "version": 3
   },
   "file_extension": ".py",
   "mimetype": "text/x-python",
   "name": "python",
   "nbconvert_exporter": "python",
   "pygments_lexer": "ipython3",
   "version": "3.10.10"
  }
 },
 "nbformat": 4,
 "nbformat_minor": 5
}
