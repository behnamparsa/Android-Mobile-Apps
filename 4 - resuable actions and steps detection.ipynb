{
 "cells": [
  {
   "cell_type": "code",
   "execution_count": 4,
   "id": "4872aec7",
   "metadata": {},
   "outputs": [
    {
     "ename": "ModuleNotFoundError",
     "evalue": "No module named 'ace_tools'",
     "output_type": "error",
     "traceback": [
      "\u001b[1;31m---------------------------------------------------------------------------\u001b[0m",
      "\u001b[1;31mModuleNotFoundError\u001b[0m                       Traceback (most recent call last)",
      "Cell \u001b[1;32mIn[4], line 44\u001b[0m\n\u001b[0;32m     41\u001b[0m df_run \u001b[38;5;241m=\u001b[39m pd\u001b[38;5;241m.\u001b[39mDataFrame(run_counts\u001b[38;5;241m.\u001b[39mitems(), columns\u001b[38;5;241m=\u001b[39m[\u001b[38;5;124m'\u001b[39m\u001b[38;5;124mRun Command\u001b[39m\u001b[38;5;124m'\u001b[39m, \u001b[38;5;124m'\u001b[39m\u001b[38;5;124mCount\u001b[39m\u001b[38;5;124m'\u001b[39m])\u001b[38;5;241m.\u001b[39msort_values(by\u001b[38;5;241m=\u001b[39m\u001b[38;5;124m'\u001b[39m\u001b[38;5;124mCount\u001b[39m\u001b[38;5;124m'\u001b[39m, ascending\u001b[38;5;241m=\u001b[39m\u001b[38;5;28;01mFalse\u001b[39;00m)\n\u001b[0;32m     43\u001b[0m \u001b[38;5;66;03m# Display both tables\u001b[39;00m\n\u001b[1;32m---> 44\u001b[0m \u001b[38;5;28;01mimport\u001b[39;00m\u001b[38;5;250m \u001b[39m\u001b[38;5;21;01mace_tools\u001b[39;00m\u001b[38;5;250m \u001b[39m\u001b[38;5;28;01mas\u001b[39;00m\u001b[38;5;250m \u001b[39m\u001b[38;5;21;01mtools\u001b[39;00m; tools\u001b[38;5;241m.\u001b[39mdisplay_dataframe_to_user(name\u001b[38;5;241m=\u001b[39m\u001b[38;5;124m\"\u001b[39m\u001b[38;5;124mTop Reusable GitHub Actions\u001b[39m\u001b[38;5;124m\"\u001b[39m, dataframe\u001b[38;5;241m=\u001b[39mdf_actions)\n\u001b[0;32m     45\u001b[0m tools\u001b[38;5;241m.\u001b[39mdisplay_dataframe_to_user(name\u001b[38;5;241m=\u001b[39m\u001b[38;5;124m\"\u001b[39m\u001b[38;5;124mCommon Emulator-Related Run Commands\u001b[39m\u001b[38;5;124m\"\u001b[39m, dataframe\u001b[38;5;241m=\u001b[39mdf_run)\n",
      "\u001b[1;31mModuleNotFoundError\u001b[0m: No module named 'ace_tools'"
     ]
    }
   ],
   "source": [
    "import os\n",
    "import pandas as pd\n",
    "import re\n",
    "from collections import Counter\n",
    "\n",
    "# === Load dataset ===\n",
    "csv_path = r\"C:\\GitHub\\Android-Mobile-Apps\\emulator_steps_summary.csv\"\n",
    "df = pd.read_csv(csv_path)\n",
    "df.fillna('', inplace=True)\n",
    "\n",
    "# === Extract top 20 projects ===\n",
    "df['project'] = df['file'].apply(lambda x: os.path.basename(str(x)).split('.')[0])\n",
    "top_projects = df['project'].value_counts().head(20).index.tolist()\n",
    "df_top = df[df['project'].isin(top_projects)]\n",
    "\n",
    "# === Extract reusable GitHub Actions (lines with 'uses: ...') ===\n",
    "action_pattern = re.compile(r'uses:\\s*([^\\s\\'\"]+)', re.IGNORECASE)\n",
    "all_actions = []\n",
    "\n",
    "for step in df_top['full_step_json']:\n",
    "    matches = action_pattern.findall(str(step))\n",
    "    all_actions.extend(matches)\n",
    "\n",
    "action_counts = Counter(all_actions)\n",
    "df_actions = pd.DataFrame(action_counts.items(), columns=['GitHub Action', 'Count']).sort_values(by='Count', ascending=False)\n",
    "\n",
    "# === Extract most common emulator-related run commands ===\n",
    "# Filter steps that include a 'run' command or match emulator keywords\n",
    "emulator_steps = df_top[df_top['matched_keywords'].str.len() > 0]\n",
    "\n",
    "# Extract likely script lines (assumes step json includes run lines or shell commands)\n",
    "run_lines = []\n",
    "for json_text in emulator_steps['full_step_json']:\n",
    "    # extract simple shell command lines, optionally from embedded 'run:' blocks\n",
    "    for line in str(json_text).splitlines():\n",
    "        line = line.strip()\n",
    "        if any(kw in line.lower() for kw in ['emulator', 'adb', 'avdmanager']) and not line.startswith('#'):\n",
    "            run_lines.append(line)\n",
    "\n",
    "run_counts = Counter(run_lines)\n",
    "df_run = pd.DataFrame(run_counts.items(), columns=['Run Command', 'Count']).sort_values(by='Count', ascending=False)\n",
    "\n",
    "# Display both tables\n",
    "import ace_tools as tools; tools.display_dataframe_to_user(name=\"Top Reusable GitHub Actions\", dataframe=df_actions)\n",
    "tools.display_dataframe_to_user(name=\"Common Emulator-Related Run Commands\", dataframe=df_run)\n"
   ]
  }
 ],
 "metadata": {
  "kernelspec": {
   "display_name": ".venv",
   "language": "python",
   "name": "python3"
  },
  "language_info": {
   "codemirror_mode": {
    "name": "ipython",
    "version": 3
   },
   "file_extension": ".py",
   "mimetype": "text/x-python",
   "name": "python",
   "nbconvert_exporter": "python",
   "pygments_lexer": "ipython3",
   "version": "3.10.10"
  }
 },
 "nbformat": 4,
 "nbformat_minor": 5
}
