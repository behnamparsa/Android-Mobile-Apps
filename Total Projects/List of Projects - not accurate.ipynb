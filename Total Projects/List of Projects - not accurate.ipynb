{
 "cells": [
  {
   "cell_type": "code",
   "execution_count": 1,
   "id": "345a5b6c",
   "metadata": {},
   "outputs": [
    {
     "name": "stdout",
     "output_type": "stream",
     "text": [
      "Saved project YML counts to: C:\\GitHub\\Android-Mobile-Apps\\Total Projects\\project_yml_counts.csv\n"
     ]
    }
   ],
   "source": [
    "import os\n",
    "import csv\n",
    "from collections import Counter\n",
    "\n",
    "# === Configuration ===\n",
    "input_folder = r\"C:\\Users\\Admin\\OneDrive\\Education\\Master of Info - Thesis\\Config Files\"\n",
    "output_folder = r\"C:\\GitHub\\Android-Mobile-Apps\\Total Projects\"\n",
    "output_csv = os.path.join(output_folder, \"project_yml_counts.csv\")\n",
    "\n",
    "# === Create output folder if it doesn't exist ===\n",
    "os.makedirs(output_folder, exist_ok=True)\n",
    "\n",
    "# === Extract project names and count ===\n",
    "project_names = []\n",
    "\n",
    "for root, _, files in os.walk(input_folder):\n",
    "    for file in files:\n",
    "        if file.lower().endswith(\".yml\"):\n",
    "            project_name = file.split('.')[0]  # Extract part before first dot\n",
    "            project_names.append(project_name)\n",
    "\n",
    "# Count occurrences\n",
    "project_counts = Counter(project_names)\n",
    "\n",
    "# Save to CSV\n",
    "with open(output_csv, mode='w', newline='', encoding='utf-8') as f:\n",
    "    writer = csv.writer(f)\n",
    "    writer.writerow([\"Project Name\", \"YML File Count\"])\n",
    "    for name, count in sorted(project_counts.items()):\n",
    "        writer.writerow([name, count])\n",
    "\n",
    "print(f\"Saved project YML counts to: {output_csv}\")\n"
   ]
  }
 ],
 "metadata": {
  "kernelspec": {
   "display_name": ".Dsktpvenv",
   "language": "python",
   "name": "python3"
  },
  "language_info": {
   "codemirror_mode": {
    "name": "ipython",
    "version": 3
   },
   "file_extension": ".py",
   "mimetype": "text/x-python",
   "name": "python",
   "nbconvert_exporter": "python",
   "pygments_lexer": "ipython3",
   "version": "3.10.10"
  }
 },
 "nbformat": 4,
 "nbformat_minor": 5
}
