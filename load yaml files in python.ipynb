{
 "cells": [
  {
   "cell_type": "code",
   "execution_count": null,
   "id": "0ead2026",
   "metadata": {},
   "outputs": [
    {
     "name": "stdout",
     "output_type": "stream",
     "text": [
      "{'courses': {'course_name': 'DJango back end developer', 'version': 1.5, 'price': 199, 'is_public': True, 'release_date': datetime.datetime(2021, 4, 5, 12, 23, 22), 'pre_enroll': None, 'tages': ['python', 'web developer', 'mysql'], 'course_ta': ['anirudh', 'anurag', 'rakesh'], 'ta_details': [{'name': 'anirudh', 'email': 'ani@loc.deve', 'role': 'content admin'}, {'name': 'anurag', 'email': 'anu@loc.dev', 'role': 'discussion admin'}, {'name': 'rakesh', 'email': 'rak@lco.dev', 'role': 'devops'}], 'short_desc': 'here is a short  description for django course\\n', 'long_desc': 'now we can store\\n  all indentation\\nand related things\\n', 'process_payment': 199, 'adv': {'mykey': 'myval'}, 'another_adv': {'mykey': 'myval', 'one': 'two'}}}\n"
     ]
    }
   ],
   "source": [
    "import yaml\n",
    "\n",
    "with open(\"C:\\GitHub\\Android-Mobile-Apps\\practice.yaml\",\"r\") as f:\n",
    "    data = yaml.safe_load(f)\n",
    "\n",
    "print(data)"
   ]
  }
 ],
 "metadata": {
  "kernelspec": {
   "display_name": ".venv",
   "language": "python",
   "name": "python3"
  },
  "language_info": {
   "codemirror_mode": {
    "name": "ipython",
    "version": 3
   },
   "file_extension": ".py",
   "mimetype": "text/x-python",
   "name": "python",
   "nbconvert_exporter": "python",
   "pygments_lexer": "ipython3",
   "version": "3.10.10"
  }
 },
 "nbformat": 4,
 "nbformat_minor": 5
}
