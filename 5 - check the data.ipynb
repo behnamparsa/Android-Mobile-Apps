{
 "cells": [
  {
   "cell_type": "code",
   "execution_count": 4,
   "id": "4a5d72d1",
   "metadata": {},
   "outputs": [
    {
     "name": "stdout",
     "output_type": "stream",
     "text": [
      "Number of steps containing 'uses:': 0\n",
      "\n",
      "Sample full_step_json with 'uses:' in it:\n",
      "[]\n"
     ]
    }
   ],
   "source": [
    "import os\n",
    "import pandas as pd\n",
    "import re\n",
    "from collections import Counter\n",
    "\n",
    "# === Load dataset ===\n",
    "csv_path = r\"C:\\GitHub\\Android-Mobile-Apps\\emulator_steps_summary.csv\"\n",
    "df = pd.read_csv(csv_path)\n",
    "df.fillna('', inplace=True)\n",
    "\n",
    "# === Extract top 20 projects ===\n",
    "df['project'] = df['file'].apply(lambda x: os.path.basename(str(x)).split('.')[0])\n",
    "top_projects = df['project'].value_counts().head(20).index.tolist()\n",
    "df_top = df[df['project'].isin(top_projects)]\n",
    "\n",
    "# Check how many steps mention 'uses:'\n",
    "contains_uses = df_top[df_top['full_step_json'].str.contains('uses:', case=False)]\n",
    "print(f\"Number of steps containing 'uses:': {len(contains_uses)}\")\n",
    "\n",
    "# Display a few step blocks with 'uses:'\n",
    "print(\"\\nSample full_step_json with 'uses:' in it:\")\n",
    "print(contains_uses['full_step_json'].head(3).tolist())"
   ]
  },
  {
   "cell_type": "markdown",
   "id": "736b333a",
   "metadata": {
    "tags": [
     "parameters"
    ]
   },
   "source": [
    "it seems that the data file does not include any \"uses\""
   ]
  },
  {
   "cell_type": "code",
   "execution_count": null,
   "id": "19e61622",
   "metadata": {},
   "outputs": [
    {
     "name": "stdout",
     "output_type": "stream",
     "text": [
      "\n",
      "Top GitHub Actions detected:\n",
      "                                        GitHub Action  Count\n",
      "0           reactivecircus/android-emulator-runner@v2     40\n",
      "2                                    actions/cache@v3     11\n",
      "5   reactivecircus/android-emulator-runner@d94c3fb...      4\n",
      "10                                   actions/cache@v2      3\n",
      "9      reactivecircus/android-emulator-runner@v2.28.0      2\n",
      "4   actions/cache@88522ab9f39a2ea568f7027eddc7d8d8...      2\n",
      "3                          actions/upload-artifact@v3      2\n",
      "1      reactivecircus/android-emulator-runner@v2.24.0      1\n",
      "6                                actions/cache@v3.3.1      1\n",
      "8      ReactiveCircus/android-emulator-runner@v2.27.0      1\n"
     ]
    }
   ],
   "source": [
    "import re\n",
    "from collections import Counter\n",
    "\n",
    "# Improved regex to capture variations of uses:\n",
    "action_pattern = re.compile(r'[\"\\']?uses[\"\\']?\\s*:\\s*[\"\\']?([^\\'\"\\s]+)', re.IGNORECASE)  # needs manual check\n",
    "\n",
    "all_actions = []\n",
    "for step in df_top['full_step_json']:\n",
    "    matches = action_pattern.findall(str(step))\n",
    "    all_actions.extend(matches)\n",
    "\n",
    "# Count and sort\n",
    "action_counts = Counter(all_actions)\n",
    "df_actions = pd.DataFrame(action_counts.items(), columns=['GitHub Action', 'Count']).sort_values(by='Count', ascending=False)\n",
    "\n",
    "# Display top results\n",
    "print(\"\\nTop GitHub Actions detected:\")\n",
    "print(df_actions.head(10))\n"
   ]
  },
  {
   "cell_type": "code",
   "execution_count": 6,
   "id": "f0da402f",
   "metadata": {},
   "outputs": [
    {
     "name": "stdout",
     "output_type": "stream",
     "text": [
      "\n",
      "Sample full_step_json fields:\n",
      "\n",
      "--- Step Block 1 ---\n",
      "{\n",
      "  \"name\": \"Create Android emulator\",\n",
      "  \"run\": \"brew install intel-haxm\\n# Install AVD files\\necho \\\"y\\\" | $ANDROID_HOME/tools/bin/sdkmanager --install 'system-images;android-'$MATRIX_E_SDK';default;x86_64'\\necho \\\"y\\\" | $ANDROID_HOME/tools/bin/sdkmanager --licenses\\n\\n# Create emulator\\n$ANDROID_HOME/tools/bin/avdmanager create avd -n $MATRIX_AVD -d pixel --package 'system-images;android-'$MATRIX_E_SDK';default;x86_64'\\n$ANDROID_HOME/emulator/emulator -list-avds\\nif false; then\\nemulator_config=~/.android/avd/$MATRIX_AVD.avd/config.ini\\n# The following madness is to support empty OR populated config.ini files,\\n# the state of which is dependant on the version of the emulator used (which we don't control),\\n# so let's be defensive to be safe.\\n# Replace existing config (NOTE we're on MacOS so sed works differently!)\\nsed -i .bak 's/hw.lcd.density=.*/hw.lcd.density=420/' \\\"$emulator_config\\\"\\nsed -i .bak 's/hw.lcd.height=.*/hw.lcd.height=1920/' \\\"$emulator_config\\\"\\nsed -i .bak 's/hw.lcd.width=.*/hw.lcd.width=1080/' \\\"$emulator_config\\\"\\n# Or, add new config\\nif ! grep -q \\\"hw.lcd.density\\\" \\\"$emulator_config\\\"; then\\n  echo \\\"hw.lcd.density=420\\\" >> \\\"$emulator_config\\\"\\nfi\\nif ! grep -q \\\"hw.lcd.height\\\" \\\"$emulator_config\\\"; then\\n  echo \\\"hw.lcd.height=1920\\\" >> \\\"$emulator_config\\\"\\nfi\\nif ! grep -q \\\"hw.lcd.width\\\" \\\"$emulator_config\\\"; then\\n  echo \\\"hw.lcd.width=1080\\\" >> \\\"$emulator_config\\\"\\nfi\\necho \\\"Emulator settings ($emulator_config)\\\"\\ncat \\\"$emulator_config\\\"\\nfi\\n\"\n",
      "}\n",
      "\n",
      "\n",
      "--- Step Block 2 ---\n",
      "{\n",
      "  \"name\": \"Start Android emulator\",\n",
      "  \"timeout-minutes\": 30,\n",
      "  \"env\": {\n",
      "    \"SUFFIX\": \"${{ matrix.android_avd }}-eAPI-${{ matrix.android_emu_version }}-${{ matrix.os }}\",\n",
      "    \"HOMEBREW_NO_INSTALL_CLEANUP\": 1\n",
      "  },\n",
      "  \"run\": \"echo \\\"Starting emulator and waiting for boot to complete....\\\"\\nls -la $ANDROID_HOME/emulator\\nnohup $ANDROID_HOME/tools/emulator -avd $MATRIX_AVD -gpu host -no-audio -no-boot-anim -camera-back none -camera-front none -qemu -m 2048 2>&1 &\\n$ANDROID_HOME/platform-tools/adb wait-for-device shell 'while [[ -z $(getprop sys.boot_completed | tr -d '\\\\r') ]]; do echo \\\"wait...\\\"; sleep 1; done; input keyevent 82'\\necho \\\"Emulator has finished booting\\\"\\n$ANDROID_HOME/platform-tools/adb devices\\nsleep 30\\nmkdir -p screenshots\\nscreencapture screenshots/screenshot-$SUFFIX.jpg\\n$ANDROID_HOME/platform-tools/adb exec-out screencap -p > screenshots/emulator-$SUFFIX.png\\n\"\n",
      "}\n",
      "\n",
      "\n",
      "--- Step Block 3 ---\n",
      "{\n",
      "  \"name\": \"Output and save logcat to file\",\n",
      "  \"if\": \"${{ success() || steps.test.conclusion == 'failure'}}\",\n",
      "  \"run\": \"mkdir -p mobile/build\\nadb logcat -d > mobile/build/logcat.log\\nadb logcat -v color &\\n\"\n",
      "}\n",
      "\n",
      "\n",
      "--- Step Block 4 ---\n",
      "{\n",
      "  \"name\": \"Screenshot\",\n",
      "  \"if\": \"${{ success() || steps.test.conclusion == 'failure'}}\",\n",
      "  \"env\": {\n",
      "    \"SUFFIX\": \"${{ matrix.android_avd }}-eAPI-${{ matrix.android_emu_version }}-${{ matrix.os }}\"\n",
      "  },\n",
      "  \"run\": \"adb shell monkey -p net.activitywatch.android.debug 1\\nsleep 10\\nscreencapture screenshots/pscreenshot-$SUFFIX.jpg\\n$ANDROID_HOME/platform-tools/adb exec-out screencap -p > screenshots/pemulator-$SUFFIX.png\\nls -alh screenshots/\\n\"\n",
      "}\n",
      "\n",
      "\n",
      "--- Step Block 5 ---\n",
      "{\n",
      "  \"name\": \"Instrumentation tests\",\n",
      "  \"uses\": \"reactivecircus/android-emulator-runner@v2\",\n",
      "  \"with\": {\n",
      "    \"api-level\": 31,\n",
      "    \"arch\": \"x86_64\",\n",
      "    \"profile\": \"pixel\",\n",
      "    \"target\": \"google_apis\",\n",
      "    \"script\": \"./gradlew connectedCheck\"\n",
      "  }\n",
      "}\n",
      "\n"
     ]
    }
   ],
   "source": [
    "print(\"\\nSample full_step_json fields:\")\n",
    "for i, block in enumerate(df_top['full_step_json'].head(5)):\n",
    "    print(f\"\\n--- Step Block {i+1} ---\\n{block}\\n\")\n"
   ]
  }
 ],
 "metadata": {
  "kernelspec": {
   "display_name": ".venv",
   "language": "python",
   "name": "python3"
  },
  "language_info": {
   "codemirror_mode": {
    "name": "ipython",
    "version": 3
   },
   "file_extension": ".py",
   "mimetype": "text/x-python",
   "name": "python",
   "nbconvert_exporter": "python",
   "pygments_lexer": "ipython3",
   "version": "3.10.10"
  }
 },
 "nbformat": 4,
 "nbformat_minor": 5
}
